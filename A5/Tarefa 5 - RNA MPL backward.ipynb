{
 "cells": [
  {
   "cell_type": "markdown",
   "metadata": {},
   "source": [
    "# Rede Neural Multicamadas (MPL)\n",
    "Uma rede MPL é uma classe de rede neural artificial *feedforward* (ANN). Um MLP consiste em pelo menos três camadas de nós: uma camada de entrada , uma camada oculta e uma camada de saída . Exceto para os nós de entrada, cada nó é um neurônio que usa uma função de ativação não linear . O MLP utiliza uma técnica de aprendizado supervisionado chamada *backpropagation* para treinamento.\n",
    "\n",
    "\n",
    "\n",
    "### Implementando uma RNA multicamadas\n",
    "\n",
    "A imagem a seguir mostra a nossa rede, com as unidades de entrada marcadas como Input1, Input2 e Input3 (**Input Layer**) conectadas com os *nós* da camada oculta (**Hidden Layer**). Por sua vez as saída dos *nós* da camada oculda servem como entrada para os *nós*  da camada de saída (**Output Layer**). <img src='MPL.png' /><br>\n",
    "\n",
    "<p style=\"text-align:center\">  <i> Diagrama de uma MPL</i> </p>\n",
    " \n",
    "\n",
    "Lembrando que em cada *nó* temos: \n",
    "\n",
    "$$f(h) = sigmoid(h)=\\frac 1 {1+e^{-h}}$$  \n",
    "\n",
    "onde\n",
    "\n",
    "<p style=\"text-align:center\"> $$h = \\frac 1n\\sum_{i=1}^n(w_i*x_i)+b$$  </p>\n",
    "\n",
    "\n",
    "\n",
    "\n",
    "    \n",
    "\n"
   ]
  },
  {
   "cell_type": "markdown",
   "metadata": {},
   "source": [
    "## Configuração da MPL"
   ]
  },
  {
   "cell_type": "code",
   "execution_count": 1,
   "metadata": {},
   "outputs": [],
   "source": [
    "#Importando a biblioteca\n",
    "import numpy as np\n",
    "\n",
    "#Função do cáculo da sigmóide\n",
    "def sigmoid(x):\n",
    "    result = (1+np.exp(-x))   # 1 + (e^ -x)\n",
    "    return 1/result          # 1 / (1 + (e^ -x))\n",
    "\n",
    "#Arquitetura da MPL\n",
    "N_input = 3\n",
    "N_hidden = 4\n",
    "N_output = 2\n",
    "\n",
    "#Vetor dos valores de entrada\n",
    "x = np.array([0.5, 0.1, -0.2])\n",
    "target =np.array([0.3, 0.8])\n",
    "learnrate = 0.5\n",
    "\n",
    "#Pesos da Camada Oculta\n",
    "weights_in_hidden = np.array([[-0.07,  0.04, -0.05, 0.07],\n",
    "                              [ 0.04,  0.10,  0.02, 0.01],\n",
    "                              [-0.03,  0.04, -0.11, 0.06]])\n",
    "\n",
    "#Pesos da Camada de Saída\n",
    "weights_hidden_out = np.array([[-0.10,  0.09],\n",
    "                               [-0.04,  0.12],\n",
    "                               [-0.02,  0.04],\n",
    "                               [-0.01,  0.09]])\n",
    "\n"
   ]
  },
  {
   "cell_type": "markdown",
   "metadata": {},
   "source": [
    "### Forward Pass"
   ]
  },
  {
   "cell_type": "code",
   "execution_count": 2,
   "metadata": {
    "scrolled": true
   },
   "outputs": [],
   "source": [
    "#Camada oculta\n",
    "\n",
    "#Calcule a combinação linear de entradas e pesos sinápticos\n",
    "hidden_layer_input = np.dot(x, weights_in_hidden)\n",
    "\n",
    "#Aplicado a função de ativação\n",
    "hidden_layer_output = sigmoid(hidden_layer_input)"
   ]
  },
  {
   "cell_type": "code",
   "execution_count": 3,
   "metadata": {},
   "outputs": [
    {
     "name": "stdout",
     "output_type": "stream",
     "text": [
      "As saídas da rede são [0.47885012 0.54255368]\n"
     ]
    }
   ],
   "source": [
    "#Camada de Saída\n",
    "\n",
    "#Calcule a combinação linear de entradas e pesos sinápticos\n",
    "output_layer_in = np.dot(hidden_layer_output, weights_hidden_out)\n",
    "\n",
    "#Aplicado a função de ativação \n",
    "output = sigmoid(output_layer_in)\n",
    "\n",
    "print('As saídas da rede são',output)"
   ]
  },
  {
   "cell_type": "markdown",
   "metadata": {},
   "source": [
    "## Backward Pass"
   ]
  },
  {
   "cell_type": "code",
   "execution_count": 4,
   "metadata": {
    "scrolled": true
   },
   "outputs": [],
   "source": [
    "## TODO: Cálculo do Erro\n",
    "error = target - output\n",
    "#print('Erro da Rede: ',error)\n",
    "\n",
    "# TODO: Calcule o termo de erro de saída (Gradiente da Camada de Saída)\n",
    "output_error_term = error * output * (1 - output)\n",
    "\n",
    "# TODO: Calcule a contribuição da camada oculta para o erro\n",
    "hidden_error = np.dot(weights_hidden_out,output_error_term)\n",
    "\n",
    "# TODO: Calcule o termo de erro da camada oculta (Gradiente da Camada Oculta)\n",
    "hidden_error_term = hidden_error * hidden_layer_output * (1 - hidden_layer_output)"
   ]
  },
  {
   "cell_type": "code",
   "execution_count": 5,
   "metadata": {},
   "outputs": [
    {
     "name": "stdout",
     "output_type": "stream",
     "text": [
      "Variação do peso da camada de saída (delta_w_h_o):  [[-0.01101866  0.01577419]\n",
      " [-0.01128087  0.01614955]\n",
      " [-0.01115255  0.01596586]\n",
      " [-0.01129202  0.01616553]]\n"
     ]
    }
   ],
   "source": [
    "# TODO: Calcule a variação do peso da camada de saída\n",
    "delta_w_h_o = learnrate * output_error_term*hidden_layer_output[:, None]\n",
    "print('Variação do peso da camada de saída (delta_w_h_o): ',delta_w_h_o)"
   ]
  },
  {
   "cell_type": "code",
   "execution_count": 6,
   "metadata": {},
   "outputs": [
    {
     "name": "stdout",
     "output_type": "stream",
     "text": [
      "Variação do peso da camada oculta (delta_w_i_h):  [[ 6.38265149e-04  5.90725285e-04  2.15529088e-04  3.87251147e-04]\n",
      " [ 1.27653030e-04  1.18145057e-04  4.31058176e-05  7.74502295e-05]\n",
      " [-2.55306060e-04 -2.36290114e-04 -8.62116351e-05 -1.54900459e-04]]\n"
     ]
    }
   ],
   "source": [
    "# TODO: Calcule a variação do peso da camada oculta\n",
    "delta_w_i_h = learnrate * hidden_error_term * x[:, None]\n",
    "print('Variação do peso da camada oculta (delta_w_i_h): ',delta_w_i_h)"
   ]
  },
  {
   "cell_type": "markdown",
   "metadata": {},
   "source": [
    "### Atualização dos Pesos"
   ]
  },
  {
   "cell_type": "code",
   "execution_count": 7,
   "metadata": {},
   "outputs": [
    {
     "name": "stdout",
     "output_type": "stream",
     "text": [
      "weights_input_hidden:  [[ 3.19132575e-04  2.95362642e-04  1.07764544e-04  1.93625574e-04]\n",
      " [ 6.38265149e-05  5.90725285e-05  2.15529088e-05  3.87251147e-05]\n",
      " [-1.27653030e-04 -1.18145057e-04 -4.31058176e-05 -7.74502295e-05]]\n",
      "weights_hidden_output:  [[-0.00550933  0.00788709]\n",
      " [-0.00564043  0.00807478]\n",
      " [-0.00557628  0.00798293]\n",
      " [-0.00564601  0.00808276]]\n"
     ]
    }
   ],
   "source": [
    "##Atualização dos Pesos\n",
    "weights_input_hidden = learnrate * delta_w_i_h\n",
    "print('weights_input_hidden: ',weights_input_hidden)\n",
    "weights_hidden_output = learnrate * delta_w_h_o\n",
    "print('weights_hidden_output: ',weights_hidden_output)"
   ]
  }
 ],
 "metadata": {
  "kernelspec": {
   "display_name": "Python 3",
   "language": "python",
   "name": "python3"
  },
  "language_info": {
   "codemirror_mode": {
    "name": "ipython",
    "version": 3
   },
   "file_extension": ".py",
   "mimetype": "text/x-python",
   "name": "python",
   "nbconvert_exporter": "python",
   "pygments_lexer": "ipython3",
   "version": "3.7.3"
  }
 },
 "nbformat": 4,
 "nbformat_minor": 2
}
